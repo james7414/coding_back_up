{
 "cells": [
  {
   "cell_type": "code",
   "execution_count": null,
   "metadata": {},
   "outputs": [],
   "source": [
    "This notebook looks to show beginning steps to look into the data we have available.\n",
    "\n",
    "Process:\n",
    "Read data\n",
    ".describe\n",
    "check if min and max for numeric make sense\n",
    "Check if any nulls in columns"
   ]
  },
  {
   "cell_type": "markdown",
   "metadata": {},
   "source": [
    "# Imports"
   ]
  },
  {
   "cell_type": "code",
   "execution_count": 1,
   "metadata": {},
   "outputs": [],
   "source": [
    "import os\n",
    "os.chdir(\"../../coding_data/cookbook_data/\")\n",
    "os.getcwd()\n",
    "\n",
    "import pandas as pd\n",
    "import numpy as np\n",
    "\n",
    "pd.set_option('max_columns', 4, 'max_rows', 10, 'max_colwidth', 12)"
   ]
  },
  {
   "cell_type": "markdown",
   "metadata": {},
   "source": [
    "# Initial summary statistics"
   ]
  },
  {
   "cell_type": "code",
   "execution_count": 61,
   "metadata": {},
   "outputs": [
    {
     "name": "stdout",
     "output_type": "stream",
     "text": [
      "<class 'pandas.core.frame.DataFrame'>\n",
      "RangeIndex: 7535 entries, 0 to 7534\n",
      "Data columns (total 27 columns):\n",
      " #   Column              Non-Null Count  Dtype  \n",
      "---  ------              --------------  -----  \n",
      " 0   INSTNM              7535 non-null   object \n",
      " 1   CITY                7535 non-null   object \n",
      " 2   STABBR              7535 non-null   object \n",
      " 3   HBCU                7164 non-null   float64\n",
      " 4   MENONLY             7164 non-null   float64\n",
      " 5   WOMENONLY           7164 non-null   float64\n",
      " 6   RELAFFIL            7535 non-null   int64  \n",
      " 7   SATVRMID            1185 non-null   float64\n",
      " 8   SATMTMID            1196 non-null   float64\n",
      " 9   DISTANCEONLY        7164 non-null   float64\n",
      " 10  UGDS                6874 non-null   float64\n",
      " 11  UGDS_WHITE          6874 non-null   float64\n",
      " 12  UGDS_BLACK          6874 non-null   float64\n",
      " 13  UGDS_HISP           6874 non-null   float64\n",
      " 14  UGDS_ASIAN          6874 non-null   float64\n",
      " 15  UGDS_AIAN           6874 non-null   float64\n",
      " 16  UGDS_NHPI           6874 non-null   float64\n",
      " 17  UGDS_2MOR           6874 non-null   float64\n",
      " 18  UGDS_NRA            6874 non-null   float64\n",
      " 19  UGDS_UNKN           6874 non-null   float64\n",
      " 20  PPTUG_EF            6853 non-null   float64\n",
      " 21  CURROPER            7535 non-null   int64  \n",
      " 22  PCTPELL             6849 non-null   float64\n",
      " 23  PCTFLOAN            6849 non-null   float64\n",
      " 24  UG25ABV             6718 non-null   float64\n",
      " 25  MD_EARN_WNE_P10     6413 non-null   object \n",
      " 26  GRAD_DEBT_MDN_SUPP  7503 non-null   object \n",
      "dtypes: float64(20), int64(2), object(5)\n",
      "memory usage: 1.6+ MB\n"
     ]
    },
    {
     "data": {
      "text/html": [
       "<div>\n",
       "<style scoped>\n",
       "    .dataframe tbody tr th:only-of-type {\n",
       "        vertical-align: middle;\n",
       "    }\n",
       "\n",
       "    .dataframe tbody tr th {\n",
       "        vertical-align: top;\n",
       "    }\n",
       "\n",
       "    .dataframe thead th {\n",
       "        text-align: right;\n",
       "    }\n",
       "</style>\n",
       "<table border=\"1\" class=\"dataframe\">\n",
       "  <thead>\n",
       "    <tr style=\"text-align: right;\">\n",
       "      <th></th>\n",
       "      <th>count</th>\n",
       "      <th>mean</th>\n",
       "      <th>...</th>\n",
       "      <th>99%</th>\n",
       "      <th>max</th>\n",
       "    </tr>\n",
       "  </thead>\n",
       "  <tbody>\n",
       "    <tr>\n",
       "      <th>HBCU</th>\n",
       "      <td>7164.0</td>\n",
       "      <td>0.014238</td>\n",
       "      <td>...</td>\n",
       "      <td>1.000000</td>\n",
       "      <td>1.0</td>\n",
       "    </tr>\n",
       "    <tr>\n",
       "      <th>MENONLY</th>\n",
       "      <td>7164.0</td>\n",
       "      <td>0.009213</td>\n",
       "      <td>...</td>\n",
       "      <td>0.000000</td>\n",
       "      <td>1.0</td>\n",
       "    </tr>\n",
       "    <tr>\n",
       "      <th>WOMENONLY</th>\n",
       "      <td>7164.0</td>\n",
       "      <td>0.005304</td>\n",
       "      <td>...</td>\n",
       "      <td>0.000000</td>\n",
       "      <td>1.0</td>\n",
       "    </tr>\n",
       "    <tr>\n",
       "      <th>RELAFFIL</th>\n",
       "      <td>7535.0</td>\n",
       "      <td>0.190975</td>\n",
       "      <td>...</td>\n",
       "      <td>1.000000</td>\n",
       "      <td>1.0</td>\n",
       "    </tr>\n",
       "    <tr>\n",
       "      <th>SATVRMID</th>\n",
       "      <td>1185.0</td>\n",
       "      <td>522.819409</td>\n",
       "      <td>...</td>\n",
       "      <td>730.000000</td>\n",
       "      <td>765.0</td>\n",
       "    </tr>\n",
       "    <tr>\n",
       "      <th>...</th>\n",
       "      <td>...</td>\n",
       "      <td>...</td>\n",
       "      <td>...</td>\n",
       "      <td>...</td>\n",
       "      <td>...</td>\n",
       "    </tr>\n",
       "    <tr>\n",
       "      <th>PPTUG_EF</th>\n",
       "      <td>6853.0</td>\n",
       "      <td>0.226639</td>\n",
       "      <td>...</td>\n",
       "      <td>0.946724</td>\n",
       "      <td>1.0</td>\n",
       "    </tr>\n",
       "    <tr>\n",
       "      <th>CURROPER</th>\n",
       "      <td>7535.0</td>\n",
       "      <td>0.923291</td>\n",
       "      <td>...</td>\n",
       "      <td>1.000000</td>\n",
       "      <td>1.0</td>\n",
       "    </tr>\n",
       "    <tr>\n",
       "      <th>PCTPELL</th>\n",
       "      <td>6849.0</td>\n",
       "      <td>0.530643</td>\n",
       "      <td>...</td>\n",
       "      <td>0.993908</td>\n",
       "      <td>1.0</td>\n",
       "    </tr>\n",
       "    <tr>\n",
       "      <th>PCTFLOAN</th>\n",
       "      <td>6849.0</td>\n",
       "      <td>0.522211</td>\n",
       "      <td>...</td>\n",
       "      <td>0.986368</td>\n",
       "      <td>1.0</td>\n",
       "    </tr>\n",
       "    <tr>\n",
       "      <th>UG25ABV</th>\n",
       "      <td>6718.0</td>\n",
       "      <td>0.410021</td>\n",
       "      <td>...</td>\n",
       "      <td>0.917383</td>\n",
       "      <td>1.0</td>\n",
       "    </tr>\n",
       "  </tbody>\n",
       "</table>\n",
       "<p>22 rows × 14 columns</p>\n",
       "</div>"
      ],
      "text/plain": [
       "            count        mean  ...         99%    max\n",
       "HBCU       7164.0    0.014238  ...    1.000000    1.0\n",
       "MENONLY    7164.0    0.009213  ...    0.000000    1.0\n",
       "WOMENONLY  7164.0    0.005304  ...    0.000000    1.0\n",
       "RELAFFIL   7535.0    0.190975  ...    1.000000    1.0\n",
       "SATVRMID   1185.0  522.819409  ...  730.000000  765.0\n",
       "...           ...         ...  ...         ...    ...\n",
       "PPTUG_EF   6853.0    0.226639  ...    0.946724    1.0\n",
       "CURROPER   7535.0    0.923291  ...    1.000000    1.0\n",
       "PCTPELL    6849.0    0.530643  ...    0.993908    1.0\n",
       "PCTFLOAN   6849.0    0.522211  ...    0.986368    1.0\n",
       "UG25ABV    6718.0    0.410021  ...    0.917383    1.0\n",
       "\n",
       "[22 rows x 14 columns]"
      ]
     },
     "execution_count": 61,
     "metadata": {},
     "output_type": "execute_result"
    }
   ],
   "source": [
    "college = pd.read_csv('data/college.csv')\n",
    "\n",
    "college.shape\n",
    "college.info()\n",
    "college.describe(include=[np.number]).T\n",
    "college.describe(include=[np.object, pd.Categorical]).T # including object columns\n",
    "\n",
    "# can include percentile in .describe method\n",
    "college.describe(include=[np.number],\n",
    "   percentiles=[.01, .05, .10, .25, .5,\n",
    "                .75, .9, .95, .99]).T"
   ]
  },
  {
   "cell_type": "markdown",
   "metadata": {},
   "source": [
    "Describe method for object columns where we have the following information:\n",
    "* counts\n",
    "* unique values\n",
    "* most frequent value\n",
    "* frequency of most frequent value"
   ]
  },
  {
   "cell_type": "code",
   "execution_count": 62,
   "metadata": {},
   "outputs": [
    {
     "data": {
      "text/html": [
       "<div>\n",
       "<style scoped>\n",
       "    .dataframe tbody tr th:only-of-type {\n",
       "        vertical-align: middle;\n",
       "    }\n",
       "\n",
       "    .dataframe tbody tr th {\n",
       "        vertical-align: top;\n",
       "    }\n",
       "\n",
       "    .dataframe thead th {\n",
       "        text-align: right;\n",
       "    }\n",
       "</style>\n",
       "<table border=\"1\" class=\"dataframe\">\n",
       "  <thead>\n",
       "    <tr style=\"text-align: right;\">\n",
       "      <th></th>\n",
       "      <th>INSTNM</th>\n",
       "      <th>CITY</th>\n",
       "      <th>...</th>\n",
       "      <th>MD_EARN_WNE_P10</th>\n",
       "      <th>GRAD_DEBT_MDN_SUPP</th>\n",
       "    </tr>\n",
       "  </thead>\n",
       "  <tbody>\n",
       "    <tr>\n",
       "      <th>count</th>\n",
       "      <td>7535</td>\n",
       "      <td>7535</td>\n",
       "      <td>...</td>\n",
       "      <td>6413</td>\n",
       "      <td>7503</td>\n",
       "    </tr>\n",
       "    <tr>\n",
       "      <th>unique</th>\n",
       "      <td>7535</td>\n",
       "      <td>2514</td>\n",
       "      <td>...</td>\n",
       "      <td>598</td>\n",
       "      <td>2038</td>\n",
       "    </tr>\n",
       "    <tr>\n",
       "      <th>top</th>\n",
       "      <td>Briarcli...</td>\n",
       "      <td>New York</td>\n",
       "      <td>...</td>\n",
       "      <td>PrivacyS...</td>\n",
       "      <td>PrivacyS...</td>\n",
       "    </tr>\n",
       "    <tr>\n",
       "      <th>freq</th>\n",
       "      <td>1</td>\n",
       "      <td>87</td>\n",
       "      <td>...</td>\n",
       "      <td>822</td>\n",
       "      <td>1510</td>\n",
       "    </tr>\n",
       "  </tbody>\n",
       "</table>\n",
       "<p>4 rows × 5 columns</p>\n",
       "</div>"
      ],
      "text/plain": [
       "             INSTNM      CITY  ... MD_EARN_WNE_P10 GRAD_DEBT_MDN_SUPP\n",
       "count          7535      7535  ...         6413            7503      \n",
       "unique         7535      2514  ...          598            2038      \n",
       "top     Briarcli...  New York  ...  PrivacyS...     PrivacyS...      \n",
       "freq              1        87  ...          822            1510      \n",
       "\n",
       "[4 rows x 5 columns]"
      ]
     },
     "execution_count": 62,
     "metadata": {},
     "output_type": "execute_result"
    }
   ],
   "source": [
    "# just object columns\n",
    "\n",
    "college.describe(include=object)"
   ]
  },
  {
   "cell_type": "markdown",
   "metadata": {},
   "source": [
    "# Data types and saving memory"
   ]
  },
  {
   "cell_type": "markdown",
   "metadata": {},
   "source": [
    "Load some data to look at data types"
   ]
  },
  {
   "cell_type": "code",
   "execution_count": 63,
   "metadata": {},
   "outputs": [],
   "source": [
    "# choose some columns to see how much memory can be saved\n",
    "college = pd.read_csv('data/college.csv')\n",
    "\n",
    "# select certain columns\n",
    "different_cols = ['RELAFFIL', 'SATMTMID', 'CURROPER',\n",
    "   'INSTNM', 'STABBR']\n",
    "col2 = college.loc[:, different_cols]"
   ]
  },
  {
   "cell_type": "markdown",
   "metadata": {},
   "source": [
    "### Changing Numerical columns"
   ]
  },
  {
   "cell_type": "markdown",
   "metadata": {},
   "source": [
    "Get column types"
   ]
  },
  {
   "cell_type": "code",
   "execution_count": 51,
   "metadata": {},
   "outputs": [
    {
     "data": {
      "text/plain": [
       "RELAFFIL      int64\n",
       "SATMTMID    float64\n",
       "CURROPER      int64\n",
       "INSTNM       object\n",
       "STABBR       object\n",
       "dtype: object"
      ]
     },
     "execution_count": 51,
     "metadata": {},
     "output_type": "execute_result"
    }
   ],
   "source": [
    "col2.dtypes"
   ]
  },
  {
   "cell_type": "markdown",
   "metadata": {},
   "source": [
    "check memory usage"
   ]
  },
  {
   "cell_type": "code",
   "execution_count": 52,
   "metadata": {},
   "outputs": [
    {
     "data": {
      "text/plain": [
       "Index          128\n",
       "RELAFFIL     60280\n",
       "SATMTMID     60280\n",
       "CURROPER     60280\n",
       "INSTNM      660240\n",
       "STABBR      444565\n",
       "dtype: int64"
      ]
     },
     "execution_count": 52,
     "metadata": {},
     "output_type": "execute_result"
    }
   ],
   "source": [
    "original_mem = col2.memory_usage(deep=True)\n",
    "original_mem"
   ]
  },
  {
   "cell_type": "markdown",
   "metadata": {},
   "source": [
    "change type to save thata as 'RELAFFIL' column is binary"
   ]
  },
  {
   "cell_type": "code",
   "execution_count": 53,
   "metadata": {},
   "outputs": [],
   "source": [
    "col2['RELAFFIL'] = col2['RELAFFIL'].astype(np.int8)    "
   ]
  },
  {
   "cell_type": "markdown",
   "metadata": {},
   "source": [
    "see memory usage saved"
   ]
  },
  {
   "cell_type": "code",
   "execution_count": 54,
   "metadata": {},
   "outputs": [
    {
     "data": {
      "text/plain": [
       "Index          128\n",
       "RELAFFIL      7535\n",
       "SATMTMID     60280\n",
       "CURROPER     60280\n",
       "INSTNM      660240\n",
       "STABBR      444565\n",
       "dtype: int64"
      ]
     },
     "execution_count": 54,
     "metadata": {},
     "output_type": "execute_result"
    }
   ],
   "source": [
    "col2.memory_usage(deep=True)"
   ]
  },
  {
   "cell_type": "markdown",
   "metadata": {},
   "source": [
    "### Changing type to categorical columns (for categorical data)\n",
    "\n",
    "load data"
   ]
  },
  {
   "cell_type": "code",
   "execution_count": 55,
   "metadata": {},
   "outputs": [],
   "source": [
    "### choose some columns to see how much memory can be saved\n",
    "# college = pd.read_csv('data/college.csv')\n",
    "\n",
    "### select certain columns\n",
    "# different_cols = ['RELAFFIL', 'SATMTMID', 'CURROPER',\n",
    "#    'INSTNM', 'STABBR']\n",
    "# col2 = college.loc[:, different_cols]"
   ]
  },
  {
   "cell_type": "code",
   "execution_count": 56,
   "metadata": {},
   "outputs": [
    {
     "name": "stdout",
     "output_type": "stream",
     "text": [
      "Original data:\n",
      "RELAFFIL       int8\n",
      "SATMTMID    float64\n",
      "CURROPER      int64\n",
      "INSTNM       object\n",
      "STABBR       object\n",
      "dtype: object\n",
      "\n",
      "\n",
      "Original memory usage:\n",
      "Index          128\n",
      "RELAFFIL     60280\n",
      "SATMTMID     60280\n",
      "CURROPER     60280\n",
      "INSTNM      660240\n",
      "STABBR      444565\n",
      "dtype: int64\n"
     ]
    }
   ],
   "source": [
    "print('Original data:')\n",
    "print( col2.dtypes)\n",
    "print('\\n')\n",
    "print('Original memory usage:')\n",
    "print(college[different_cols].memory_usage(deep=True))"
   ]
  },
  {
   "cell_type": "markdown",
   "metadata": {},
   "source": [
    "Number of object columns"
   ]
  },
  {
   "cell_type": "code",
   "execution_count": 57,
   "metadata": {},
   "outputs": [
    {
     "data": {
      "text/plain": [
       "INSTNM    7535\n",
       "STABBR      59\n",
       "dtype: int64"
      ]
     },
     "execution_count": 57,
     "metadata": {},
     "output_type": "execute_result"
    }
   ],
   "source": [
    "col2.select_dtypes(include=['object']).nunique()"
   ]
  },
  {
   "cell_type": "markdown",
   "metadata": {},
   "source": [
    "Change object column to category"
   ]
  },
  {
   "cell_type": "code",
   "execution_count": 58,
   "metadata": {},
   "outputs": [
    {
     "data": {
      "text/plain": [
       "RELAFFIL        int8\n",
       "SATMTMID     float64\n",
       "CURROPER       int64\n",
       "INSTNM        object\n",
       "STABBR      category\n",
       "dtype: object"
      ]
     },
     "execution_count": 58,
     "metadata": {},
     "output_type": "execute_result"
    }
   ],
   "source": [
    "col2['STABBR'] = col2['STABBR'].astype('category')\n",
    "col2.dtypes"
   ]
  },
  {
   "cell_type": "markdown",
   "metadata": {},
   "source": [
    "Check memory we have saved"
   ]
  },
  {
   "cell_type": "code",
   "execution_count": 59,
   "metadata": {},
   "outputs": [
    {
     "data": {
      "text/plain": [
       "Index          128\n",
       "RELAFFIL      7535\n",
       "SATMTMID     60280\n",
       "CURROPER     60280\n",
       "INSTNM      660699\n",
       "STABBR       13576\n",
       "dtype: int64"
      ]
     },
     "execution_count": 59,
     "metadata": {},
     "output_type": "execute_result"
    }
   ],
   "source": [
    "new_mem = col2.memory_usage(deep=True)\n",
    "new_mem"
   ]
  },
  {
   "cell_type": "markdown",
   "metadata": {},
   "source": [
    "Below we can see that we reduced the memory to an eighth of the memory for RELAFFIL and 3% for STABBR!"
   ]
  },
  {
   "cell_type": "code",
   "execution_count": 60,
   "metadata": {},
   "outputs": [
    {
     "data": {
      "text/plain": [
       "Index       1.000000\n",
       "RELAFFIL    0.125000\n",
       "SATMTMID    1.000000\n",
       "CURROPER    1.000000\n",
       "INSTNM      1.000695\n",
       "STABBR      0.030538\n",
       "dtype: float64"
      ]
     },
     "execution_count": 60,
     "metadata": {},
     "output_type": "execute_result"
    }
   ],
   "source": [
    "# run section above\n",
    "new_mem / original_mem"
   ]
  },
  {
   "cell_type": "markdown",
   "metadata": {},
   "source": [
    "### Column types for data\n",
    "\n",
    "data types per column"
   ]
  },
  {
   "cell_type": "code",
   "execution_count": 64,
   "metadata": {},
   "outputs": [
    {
     "data": {
      "text/plain": [
       "INSTNM                 object\n",
       "CITY                   object\n",
       "STABBR                 object\n",
       "HBCU                  float64\n",
       "MENONLY               float64\n",
       "                       ...   \n",
       "PCTPELL               float64\n",
       "PCTFLOAN              float64\n",
       "UG25ABV               float64\n",
       "MD_EARN_WNE_P10        object\n",
       "GRAD_DEBT_MDN_SUPP     object\n",
       "Length: 27, dtype: object"
      ]
     },
     "execution_count": 64,
     "metadata": {},
     "output_type": "execute_result"
    }
   ],
   "source": [
    "college.dtypes"
   ]
  },
  {
   "cell_type": "markdown",
   "metadata": {},
   "source": [
    "Number of columns with specific data types"
   ]
  },
  {
   "cell_type": "code",
   "execution_count": 65,
   "metadata": {},
   "outputs": [
    {
     "data": {
      "text/plain": [
       "float64    20\n",
       "object      5\n",
       "int64       2\n",
       "dtype: int64"
      ]
     },
     "execution_count": 65,
     "metadata": {},
     "output_type": "execute_result"
    }
   ],
   "source": [
    "college.dtypes.value_counts()"
   ]
  },
  {
   "cell_type": "code",
   "execution_count": null,
   "metadata": {},
   "outputs": [],
   "source": []
  }
 ],
 "metadata": {
  "kernelspec": {
   "display_name": "Python 3",
   "language": "python",
   "name": "python3"
  },
  "language_info": {
   "codemirror_mode": {
    "name": "ipython",
    "version": 3
   },
   "file_extension": ".py",
   "mimetype": "text/x-python",
   "name": "python",
   "nbconvert_exporter": "python",
   "pygments_lexer": "ipython3",
   "version": "3.8.3"
  }
 },
 "nbformat": 4,
 "nbformat_minor": 4
}
