{
 "cells": [
  {
   "cell_type": "code",
   "execution_count": 3,
   "metadata": {},
   "outputs": [
    {
     "data": {
      "text/plain": [
       "\"C:\\\\Users\\\\k2035549\\\\OneDrive - King's College London\\\\Desktop\\\\Coding\\\\coding_data\\\\cookbook_data\""
      ]
     },
     "execution_count": 3,
     "metadata": {},
     "output_type": "execute_result"
    }
   ],
   "source": [
    "import os\n",
    "import pandas as pd\n",
    "import numpy as np\n",
    "\n",
    "os.chdir(\"../../coding_data/cookbook_data/\")\n",
    "os.getcwd()"
   ]
  },
  {
   "cell_type": "markdown",
   "metadata": {},
   "source": [
    "# Load data"
   ]
  },
  {
   "cell_type": "code",
   "execution_count": 4,
   "metadata": {},
   "outputs": [
    {
     "name": "stderr",
     "output_type": "stream",
     "text": [
      "C:\\Users\\Public\\Anaconda3\\lib\\site-packages\\IPython\\core\\interactiveshell.py:3071: DtypeWarning: Columns (70,71,72,73,74,76,79) have mixed types.Specify dtype option on import or set low_memory=False.\n",
      "  has_raised = await self.run_ast_nodes(code_ast.body, cell_name,\n"
     ]
    }
   ],
   "source": [
    "fueleco = pd.read_csv('data/vehicles.csv.zip')"
   ]
  },
  {
   "cell_type": "markdown",
   "metadata": {},
   "source": [
    "# Generalizer function\n",
    "\n",
    "Function used to map certain categorical data into one categorical (generalising the column ie 'Seaters' is 'Car')"
   ]
  },
  {
   "cell_type": "code",
   "execution_count": null,
   "metadata": {},
   "outputs": [],
   "source": [
    "def generalize(ser, match_name, default):\n",
    "    seen = None\n",
    "    for match, name in match_name:\n",
    "        mask = ser.str.contains(match)\n",
    "        if seen is None:\n",
    "            seen = mask\n",
    "        else:\n",
    "            seen |= mask\n",
    "        ser = ser.where(~mask, name)\n",
    "    ser = ser.where(seen, default)\n",
    "    return ser"
   ]
  },
  {
   "cell_type": "code",
   "execution_count": null,
   "metadata": {},
   "outputs": [],
   "source": [
    "makes = ['Ford', 'Tesla', 'BMW', 'Toyota']\n",
    "\n",
    "data = (fueleco\n",
    "   [fueleco.make.isin(makes)]\n",
    "   .assign(SClass=lambda df_: generalize(df_.VClass,\n",
    "    [('Seaters', 'Car'), ('Car', 'Car'), ('Utility', 'SUV'),\n",
    "     ('Truck', 'Truck'), ('Van', 'Van'), ('van', 'Van'),\n",
    "     ('Wagon', 'Wagon')], 'other'))\n",
    ")"
   ]
  },
  {
   "cell_type": "markdown",
   "metadata": {},
   "source": [
    "# For loops"
   ]
  },
  {
   "cell_type": "code",
   "execution_count": 3,
   "metadata": {},
   "outputs": [
    {
     "name": "stdout",
     "output_type": "stream",
     "text": [
      "Gender: Female. Ax: 4\n",
      "Gender: Male. Ax: 3\n"
     ]
    }
   ],
   "source": [
    "ax = 4\n",
    "for gender, ax in zip(['Female', 'Male'], [4,3]):\n",
    "    print(f'Gender: {gender}. Ax: {ax}')"
   ]
  },
  {
   "cell_type": "markdown",
   "metadata": {},
   "source": [
    "# Or"
   ]
  },
  {
   "cell_type": "code",
   "execution_count": 1,
   "metadata": {},
   "outputs": [
    {
     "ename": "NameError",
     "evalue": "name 's1' is not defined",
     "output_type": "error",
     "traceback": [
      "\u001b[1;31m---------------------------------------------------------------------------\u001b[0m",
      "\u001b[1;31mNameError\u001b[0m                                 Traceback (most recent call last)",
      "\u001b[1;32m<ipython-input-1-2a710b2c5047>\u001b[0m in \u001b[0;36m<module>\u001b[1;34m\u001b[0m\n\u001b[0;32m      1\u001b[0m \u001b[1;31m#s1 = s1 | s2\u001b[0m\u001b[1;33m\u001b[0m\u001b[1;33m\u001b[0m\u001b[1;33m\u001b[0m\u001b[0m\n\u001b[1;32m----> 2\u001b[1;33m \u001b[0ms1\u001b[0m \u001b[1;33m|=\u001b[0m \u001b[0ms2\u001b[0m\u001b[1;33m\u001b[0m\u001b[1;33m\u001b[0m\u001b[0m\n\u001b[0m",
      "\u001b[1;31mNameError\u001b[0m: name 's1' is not defined"
     ]
    }
   ],
   "source": [
    "#s1 = s1 | s2 \n",
    "s1 |= s2"
   ]
  },
  {
   "cell_type": "code",
   "execution_count": null,
   "metadata": {},
   "outputs": [],
   "source": []
  }
 ],
 "metadata": {
  "kernelspec": {
   "display_name": "Python 3",
   "language": "python",
   "name": "python3"
  },
  "language_info": {
   "codemirror_mode": {
    "name": "ipython",
    "version": 3
   },
   "file_extension": ".py",
   "mimetype": "text/x-python",
   "name": "python",
   "nbconvert_exporter": "python",
   "pygments_lexer": "ipython3",
   "version": "3.8.3"
  }
 },
 "nbformat": 4,
 "nbformat_minor": 4
}
