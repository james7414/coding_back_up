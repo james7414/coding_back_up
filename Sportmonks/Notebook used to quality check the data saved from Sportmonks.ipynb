{
 "cells": [
  {
   "cell_type": "markdown",
   "metadata": {},
   "source": [
    "This notebook is used to see if all seasons we have downloaded from sportmonks has been down so correctly.\n",
    "\n",
    "This will be achieved by reading said files and looking at the number of fixtures present."
   ]
  },
  {
   "cell_type": "markdown",
   "metadata": {},
   "source": [
    "# Imports"
   ]
  },
  {
   "cell_type": "code",
   "execution_count": 23,
   "metadata": {},
   "outputs": [],
   "source": [
    "import json\n",
    "from sportmonks_config import (\n",
    "    TOP_FIVE_LEAGUE_IDS,\n",
    "    YEARS_OF_INTEREST\n",
    ")\n",
    "from sportmonks_utility import (\n",
    "    read_json\n",
    ")\n",
    "from fetch import (\n",
    "    fetch_fixtures_data\n",
    ")"
   ]
  },
  {
   "cell_type": "markdown",
   "metadata": {},
   "source": [
    "# Config"
   ]
  },
  {
   "cell_type": "code",
   "execution_count": 13,
   "metadata": {},
   "outputs": [],
   "source": [
    "league_ids = TOP_FIVE_LEAGUE_IDS\n",
    "years_of_interest = YEARS_OF_INTEREST"
   ]
  },
  {
   "cell_type": "markdown",
   "metadata": {},
   "source": [
    "# Flag files with no data for fixture event data"
   ]
  },
  {
   "cell_type": "markdown",
   "metadata": {},
   "source": [
    "look to see if any data has been persisted wrong"
   ]
  },
  {
   "cell_type": "code",
   "execution_count": 16,
   "metadata": {},
   "outputs": [],
   "source": [
    "missing_event_seasons = []\n",
    "\n",
    "for league_id in league_ids:\n",
    "    for year in years_of_interest:\n",
    "        year_format = year.replace('/','_')\n",
    "        season = str(league_id) + '_' + year_format\n",
    "        try:\n",
    "            event_data = read_json(f'sportmonks_data/fixtures_w_events_{league_id}_{year_format}.json')\n",
    "        except:\n",
    "            print(f'Event data missing. Season: {season}')\n",
    "            missing_event_seasons.append(season)\n",
    "if len(missing_event_seasons) == 0:\n",
    "    print('no missing data.')\n",
    "else:\n",
    "    print('Some file(s) with missing data')"
   ]
  },
  {
   "cell_type": "markdown",
   "metadata": {},
   "source": [
    "### check if we have the correct number of fixtures\n",
    "\n",
    "fetch fixture event data for each season"
   ]
  },
  {
   "cell_type": "code",
   "execution_count": 24,
   "metadata": {},
   "outputs": [],
   "source": [
    "season_fixtures_data_dict = fetch_fixtures_data(\n",
    "    league_ids_list = TOP_FIVE_LEAGUE_IDS,\n",
    "    years_list = YEARS_OF_INTEREST, \n",
    "    fixture_data='events'\n",
    ")"
   ]
  },
  {
   "cell_type": "markdown",
   "metadata": {},
   "source": [
    "get season names"
   ]
  },
  {
   "cell_type": "code",
   "execution_count": 26,
   "metadata": {},
   "outputs": [],
   "source": [
    "season_names = season_fixtures_data_dict.keys()"
   ]
  },
  {
   "cell_type": "markdown",
   "metadata": {},
   "source": [
    "get fixture numbers per season"
   ]
  },
  {
   "cell_type": "code",
   "execution_count": 28,
   "metadata": {},
   "outputs": [],
   "source": [
    "season_games_list = []\n",
    "for season_name in season_names:\n",
    "    season_games = len(season_fixtures_data_dict[season_name])\n",
    "    season_games_list.append((season_name,season_games))"
   ]
  },
  {
   "cell_type": "code",
   "execution_count": 29,
   "metadata": {},
   "outputs": [
    {
     "data": {
      "text/plain": [
       "[('8_2017_2018', 380),\n",
       " ('8_2018_2019', 380),\n",
       " ('8_2019_2020', 380),\n",
       " ('8_2020_2021', 380),\n",
       " ('8_2021_2022', 380),\n",
       " ('82_2017_2018', 306),\n",
       " ('82_2018_2019', 306),\n",
       " ('82_2019_2020', 306),\n",
       " ('82_2020_2021', 306),\n",
       " ('82_2021_2022', 306),\n",
       " ('301_2017_2018', 380),\n",
       " ('301_2018_2019', 380),\n",
       " ('301_2019_2020', 380),\n",
       " ('301_2020_2021', 380),\n",
       " ('301_2021_2022', 380),\n",
       " ('384_2017_2018', 380),\n",
       " ('384_2018_2019', 380),\n",
       " ('384_2019_2020', 380),\n",
       " ('384_2020_2021', 380),\n",
       " ('384_2021_2022', 380),\n",
       " ('564_2017_2018', 380),\n",
       " ('564_2018_2019', 380),\n",
       " ('564_2019_2020', 380),\n",
       " ('564_2020_2021', 380),\n",
       " ('564_2021_2022', 380)]"
      ]
     },
     "execution_count": 29,
     "metadata": {},
     "output_type": "execute_result"
    }
   ],
   "source": [
    "season_games_list"
   ]
  },
  {
   "cell_type": "markdown",
   "metadata": {},
   "source": [
    "# Flag files with no data for fixture odds data\n",
    "\n",
    "look to see if any data has been persisted wrong"
   ]
  },
  {
   "cell_type": "code",
   "execution_count": null,
   "metadata": {},
   "outputs": [],
   "source": [
    "missing_odd_seasons = []\n",
    "\n",
    "for league_id in league_ids:\n",
    "    for year in years_of_interest:\n",
    "        year_format = year.replace('/','_')\n",
    "        season = str(league_id) + '_' + year_format\n",
    "        try:\n",
    "            odds_data = read_json(f'sportmonks_data/fixtures_w_odds_{league_id}_{year_format}.json')\n",
    "        except:\n",
    "            print(f'Odd data missing. Season: {season}')\n",
    "            missing_odd_seasons.append(season)\n",
    "if len(missing_odd_seasons) == 0:\n",
    "    print('no missing data.')\n",
    "else:\n",
    "    print('Some file(s) with missing data')"
   ]
  },
  {
   "cell_type": "markdown",
   "metadata": {},
   "source": [
    "### check if we have the correct number of fixtures\n",
    "\n",
    "fetch fixture odds data for each season"
   ]
  },
  {
   "cell_type": "code",
   "execution_count": 55,
   "metadata": {},
   "outputs": [
    {
     "ename": "KeyboardInterrupt",
     "evalue": "",
     "output_type": "error",
     "traceback": [
      "\u001b[1;31m---------------------------------------------------------------------------\u001b[0m",
      "\u001b[1;31mKeyboardInterrupt\u001b[0m                         Traceback (most recent call last)",
      "\u001b[1;32m<ipython-input-55-aa56265eed31>\u001b[0m in \u001b[0;36m<module>\u001b[1;34m\u001b[0m\n\u001b[1;32m----> 1\u001b[1;33m season_fixtures_odds_data_dict = fetch_fixtures_data(\n\u001b[0m\u001b[0;32m      2\u001b[0m     \u001b[0mleague_ids_list\u001b[0m \u001b[1;33m=\u001b[0m \u001b[0mTOP_FIVE_LEAGUE_IDS\u001b[0m\u001b[1;33m,\u001b[0m\u001b[1;33m\u001b[0m\u001b[1;33m\u001b[0m\u001b[0m\n\u001b[0;32m      3\u001b[0m     \u001b[0myears_list\u001b[0m \u001b[1;33m=\u001b[0m \u001b[0mYEARS_OF_INTEREST\u001b[0m\u001b[1;33m,\u001b[0m\u001b[1;33m\u001b[0m\u001b[1;33m\u001b[0m\u001b[0m\n\u001b[0;32m      4\u001b[0m     \u001b[0mfixture_data\u001b[0m\u001b[1;33m=\u001b[0m\u001b[1;34m'odds'\u001b[0m\u001b[1;33m\u001b[0m\u001b[1;33m\u001b[0m\u001b[0m\n\u001b[0;32m      5\u001b[0m )\n",
      "\u001b[1;32m~\\OneDrive - King's College London\\Desktop\\Coding\\Sportmonks\\fetch.py\u001b[0m in \u001b[0;36mfetch_fixtures_data\u001b[1;34m(league_ids_list, years_list, fixture_data)\u001b[0m\n\u001b[0;32m     17\u001b[0m             \u001b[0mseason_name\u001b[0m \u001b[1;33m=\u001b[0m \u001b[0mstr\u001b[0m\u001b[1;33m(\u001b[0m\u001b[0mleague_id\u001b[0m\u001b[1;33m)\u001b[0m \u001b[1;33m+\u001b[0m \u001b[1;34m'_'\u001b[0m \u001b[1;33m+\u001b[0m \u001b[0myear_format\u001b[0m\u001b[1;33m\u001b[0m\u001b[1;33m\u001b[0m\u001b[0m\n\u001b[0;32m     18\u001b[0m             \u001b[0mseason\u001b[0m \u001b[1;33m=\u001b[0m \u001b[0mstr\u001b[0m\u001b[1;33m(\u001b[0m\u001b[0mleague_id\u001b[0m\u001b[1;33m)\u001b[0m \u001b[1;33m+\u001b[0m \u001b[1;34m'_'\u001b[0m \u001b[1;33m+\u001b[0m \u001b[0myear_format\u001b[0m\u001b[1;33m\u001b[0m\u001b[1;33m\u001b[0m\u001b[0m\n\u001b[1;32m---> 19\u001b[1;33m             \u001b[0mevent_data\u001b[0m \u001b[1;33m=\u001b[0m \u001b[0mread_json\u001b[0m\u001b[1;33m(\u001b[0m\u001b[1;34mf'sportmonks_data/fixtures_w_{fixture_data}_{league_id}_{year_format}.json'\u001b[0m\u001b[1;33m)\u001b[0m\u001b[1;33m\u001b[0m\u001b[1;33m\u001b[0m\u001b[0m\n\u001b[0m\u001b[0;32m     20\u001b[0m             \u001b[0mseason_data_dict\u001b[0m\u001b[1;33m[\u001b[0m\u001b[0mseason_name\u001b[0m\u001b[1;33m]\u001b[0m \u001b[1;33m=\u001b[0m \u001b[0mevent_data\u001b[0m\u001b[1;33m\u001b[0m\u001b[1;33m\u001b[0m\u001b[0m\n\u001b[0;32m     21\u001b[0m     \u001b[1;32mreturn\u001b[0m \u001b[0mseason_data_dict\u001b[0m\u001b[1;33m\u001b[0m\u001b[1;33m\u001b[0m\u001b[0m\n",
      "\u001b[1;31mKeyboardInterrupt\u001b[0m: "
     ]
    }
   ],
   "source": [
    "season_fixtures_odds_data_dict = fetch_fixtures_data(\n",
    "    league_ids_list = TOP_FIVE_LEAGUE_IDS,\n",
    "    years_list = YEARS_OF_INTEREST, \n",
    "    fixture_data='odds'\n",
    ")"
   ]
  },
  {
   "cell_type": "markdown",
   "metadata": {},
   "source": [
    "get season names"
   ]
  },
  {
   "cell_type": "code",
   "execution_count": null,
   "metadata": {},
   "outputs": [],
   "source": [
    "season_odds_names = list(season_fixtures_data_dict.keys())"
   ]
  },
  {
   "cell_type": "markdown",
   "metadata": {},
   "source": [
    "get fixture numbers per season"
   ]
  },
  {
   "cell_type": "code",
   "execution_count": 33,
   "metadata": {},
   "outputs": [],
   "source": [
    "season_odds_games_list = []\n",
    "for season_name in season_odds_names:\n",
    "    season_games = len(season_fixtures_data_dict[season_name])\n",
    "    season_odds_games_list.append((season_name,season_games))"
   ]
  },
  {
   "cell_type": "code",
   "execution_count": 34,
   "metadata": {},
   "outputs": [
    {
     "data": {
      "text/plain": [
       "[('8_2017_2018', 380),\n",
       " ('8_2018_2019', 380),\n",
       " ('8_2019_2020', 380),\n",
       " ('8_2020_2021', 380),\n",
       " ('8_2021_2022', 380),\n",
       " ('82_2017_2018', 306),\n",
       " ('82_2018_2019', 306),\n",
       " ('82_2019_2020', 306),\n",
       " ('82_2020_2021', 306),\n",
       " ('82_2021_2022', 306),\n",
       " ('301_2017_2018', 380),\n",
       " ('301_2018_2019', 380),\n",
       " ('301_2019_2020', 380),\n",
       " ('301_2020_2021', 380),\n",
       " ('301_2021_2022', 380),\n",
       " ('384_2017_2018', 380),\n",
       " ('384_2018_2019', 380),\n",
       " ('384_2019_2020', 380),\n",
       " ('384_2020_2021', 380),\n",
       " ('384_2021_2022', 380),\n",
       " ('564_2017_2018', 380),\n",
       " ('564_2018_2019', 380),\n",
       " ('564_2019_2020', 380),\n",
       " ('564_2020_2021', 380),\n",
       " ('564_2021_2022', 380)]"
      ]
     },
     "execution_count": 34,
     "metadata": {},
     "output_type": "execute_result"
    }
   ],
   "source": [
    "season_odds_games_list"
   ]
  },
  {
   "cell_type": "code",
   "execution_count": 42,
   "metadata": {},
   "outputs": [
    {
     "data": {
      "text/plain": [
       "dict_keys(['id', 'league_id', 'season_id', 'stage_id', 'round_id', 'group_id', 'aggregate_id', 'venue_id', 'referee_id', 'localteam_id', 'visitorteam_id', 'winner_team_id', 'weather_report', 'commentaries', 'attendance', 'pitch', 'details', 'neutral_venue', 'winning_odds_calculated', 'formations', 'scores', 'time', 'coaches', 'standings', 'assistants', 'leg', 'colors', 'deleted', 'is_placeholder', 'localTeam', 'visitorTeam', 'substitutions', 'goals', 'cards', 'other', 'corners', 'lineup', 'bench', 'sidelined', 'stats', 'referee', 'events', 'localCoach', 'visitorCoach'])"
      ]
     },
     "execution_count": 42,
     "metadata": {},
     "output_type": "execute_result"
    }
   ],
   "source": [
    "season_fixtures_odds_data_dict[season_odds_names[0]][0].keys()"
   ]
  },
  {
   "cell_type": "code",
   "execution_count": 39,
   "metadata": {},
   "outputs": [
    {
     "data": {
      "text/plain": [
       "['8_2017_2018',\n",
       " '8_2018_2019',\n",
       " '8_2019_2020',\n",
       " '8_2020_2021',\n",
       " '8_2021_2022',\n",
       " '82_2017_2018',\n",
       " '82_2018_2019',\n",
       " '82_2019_2020',\n",
       " '82_2020_2021',\n",
       " '82_2021_2022',\n",
       " '301_2017_2018',\n",
       " '301_2018_2019',\n",
       " '301_2019_2020',\n",
       " '301_2020_2021',\n",
       " '301_2021_2022',\n",
       " '384_2017_2018',\n",
       " '384_2018_2019',\n",
       " '384_2019_2020',\n",
       " '384_2020_2021',\n",
       " '384_2021_2022',\n",
       " '564_2017_2018',\n",
       " '564_2018_2019',\n",
       " '564_2019_2020',\n",
       " '564_2020_2021',\n",
       " '564_2021_2022']"
      ]
     },
     "execution_count": 39,
     "metadata": {},
     "output_type": "execute_result"
    }
   ],
   "source": [
    "season_odds_names"
   ]
  },
  {
   "cell_type": "code",
   "execution_count": null,
   "metadata": {},
   "outputs": [],
   "source": []
  }
 ],
 "metadata": {
  "kernelspec": {
   "display_name": "Python 3",
   "language": "python",
   "name": "python3"
  },
  "language_info": {
   "codemirror_mode": {
    "name": "ipython",
    "version": 3
   },
   "file_extension": ".py",
   "mimetype": "text/x-python",
   "name": "python",
   "nbconvert_exporter": "python",
   "pygments_lexer": "ipython3",
   "version": "3.8.3"
  }
 },
 "nbformat": 4,
 "nbformat_minor": 4
}
