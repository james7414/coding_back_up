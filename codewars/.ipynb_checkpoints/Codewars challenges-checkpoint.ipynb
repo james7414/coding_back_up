{
 "cells": [
  {
   "cell_type": "markdown",
   "metadata": {},
   "source": [
    "# Codewars\n",
    "This notebook is to store the solutions to my codewars challenges as I look to rank up kyu's\n",
    "\n",
    "# Journey to 6 kyu"
   ]
  },
  {
   "cell_type": "markdown",
   "metadata": {},
   "source": [
    "### Challenge (level 7 kyu)\n",
    "Please write a function that sums a list, but ignores any duplicate items in the list.\n",
    "\n",
    "For instance, for the list [3, 4, 3, 6] , the function should return 10."
   ]
  },
  {
   "cell_type": "code",
   "execution_count": 10,
   "metadata": {},
   "outputs": [],
   "source": [
    "# Pseudo code\n",
    "# find items that have multiple instances\n",
    "# drop those instances\n",
    "# sum the rest\n",
    "\n",
    "def sum_no_duplicates(input_list):\n",
    "    '''Function used to sum a list but ignoring duplicates in the list'''\n",
    "    input_list_wo_duplicates = [item for item in input_list if input_list.count(item) == 1 ]\n",
    "    sum_no_duplicates_total = sum(input_list_wo_duplicates)\n",
    "    return sum_no_duplicates_total"
   ]
  },
  {
   "cell_type": "code",
   "execution_count": 12,
   "metadata": {},
   "outputs": [
    {
     "data": {
      "text/plain": [
       "10"
      ]
     },
     "execution_count": 12,
     "metadata": {},
     "output_type": "execute_result"
    }
   ],
   "source": [
    "# testing solution\n",
    "l = [3,4,3,6]\n",
    "l.count(3)\n",
    "\n",
    "sum_no_duplicates(l)"
   ]
  },
  {
   "cell_type": "markdown",
   "metadata": {},
   "source": [
    "### Challenge (6 kyu)\n",
    "\n",
    "Write a function that takes an integer as input, and returns the number of bits that are equal to one in the binary representation of that number. You can guarantee that input is non-negative.\n",
    "\n",
    "Example: The binary representation of 1234 is 10011010010, so the function should return 5 in this case"
   ]
  },
  {
   "cell_type": "code",
   "execution_count": 31,
   "metadata": {},
   "outputs": [],
   "source": [
    "# bin function used to find binary representation\n",
    "binary_representation = bin(1234)[2:]\n",
    "bit_count = 0\n",
    "for char in binary_representation:\n",
    "    if int(char) == 1:\n",
    "        bit_count = bit_count + 1"
   ]
  },
  {
   "cell_type": "code",
   "execution_count": 36,
   "metadata": {},
   "outputs": [],
   "source": [
    "# solution\n",
    "def count_bits(input_int):\n",
    "    if input_int % 1 == 0:\n",
    "        binary_representation = bin(input_int)[2:]\n",
    "        bit_count = 0\n",
    "        for char in binary_representation:\n",
    "            if int(char) == 1:\n",
    "                bit_count = bit_count + 1\n",
    "    else:\n",
    "        raise Exception('Input must be integer')\n",
    "    return bit_count"
   ]
  },
  {
   "cell_type": "code",
   "execution_count": 37,
   "metadata": {},
   "outputs": [
    {
     "data": {
      "text/plain": [
       "5"
      ]
     },
     "execution_count": 37,
     "metadata": {},
     "output_type": "execute_result"
    }
   ],
   "source": [
    "# example using above function\n",
    "count_bits(1234)"
   ]
  },
  {
   "cell_type": "markdown",
   "metadata": {},
   "source": [
    "# Journey to level 5 kyu"
   ]
  },
  {
   "cell_type": "markdown",
   "metadata": {},
   "source": [
    "### Challenge (level 6)\n",
    "\n",
    "You probably know the \"like\" system from Facebook and other pages. People can \"like\" blog posts, pictures or other items. We want to create the text that should be displayed next to such an item.\n",
    "\n",
    "Implement the function which takes an array containing the names of people that like an item. It must return the display text as shown in the examples:\n",
    "\n",
    "    []                                -->  \"no one likes this\"\n",
    "    [\"Peter\"]                         -->  \"Peter likes this\"\n",
    "    [\"Jacob\", \"Alex\"]                 -->  \"Jacob and Alex like this\"\n",
    "    [\"Max\", \"John\", \"Mark\"]           -->  \"Max, John and Mark like this\"\n",
    "    [\"Alex\", \"Jacob\", \"Mark\", \"Max\"]  -->  \"Alex, Jacob and 2 others like this\"\n",
    "Note: For 4 or more names, the number in \"and 2 others\" simply increases.\n",
    "\n"
   ]
  },
  {
   "cell_type": "code",
   "execution_count": 40,
   "metadata": {},
   "outputs": [],
   "source": [
    "#pseudo code\n",
    "# find length of input list\n",
    "# if zero, zero likes\n",
    "# if less than four, x,y,z likes\n",
    "# if >= 4, first two like it and then length -2 like it\n",
    "\n",
    "def likes(names):\n",
    "    no_likes = len(names)\n",
    "    if no_likes == 0:\n",
    "        text = \"no one likes this\"\n",
    "    elif no_likes == 1:\n",
    "        text = f\"{names[0]} likes this\"\n",
    "    elif no_likes == 2:\n",
    "        text =  f\"{names[0]} and {names[1]} like this\"\n",
    "    elif no_likes == 3:\n",
    "        text = f\"{names[0]}, {names[1]} and {names[2]} like this\"\n",
    "    else:\n",
    "        text = f\"{names[0]}, {names[1]} and {no_likes-2} others like this\"\n",
    "    return text"
   ]
  },
  {
   "cell_type": "code",
   "execution_count": 42,
   "metadata": {},
   "outputs": [],
   "source": [
    "# solution I like\n",
    "def likes(names):\n",
    "    n = len(names)\n",
    "    return {\n",
    "        0: 'no one likes this',\n",
    "        1: '{} likes this', \n",
    "        2: '{} and {} like this', \n",
    "        3: '{}, {} and {} like this', \n",
    "        4: '{}, {} and {others} others like this'\n",
    "    }[min(4, n)].format(*names[:3], others=n-2)"
   ]
  },
  {
   "cell_type": "code",
   "execution_count": 43,
   "metadata": {},
   "outputs": [
    {
     "data": {
      "text/plain": [
       "'Alex, Jacob and 2 others like this'"
      ]
     },
     "execution_count": 43,
     "metadata": {},
     "output_type": "execute_result"
    }
   ],
   "source": [
    "likes([\"Alex\", \"Jacob\", \"Mark\", \"Max\"])"
   ]
  },
  {
   "cell_type": "markdown",
   "metadata": {},
   "source": [
    "### Challenge (5 kyu)\n",
    "\n",
    "Greed is a dice game played with five six-sided dice. Your mission, should you choose to accept it, is to score a throw according to these rules. You will always be given an array with five six-sided dice values.\n",
    "\n",
    "     Three 1's => 1000 points\n",
    "     Three 6's =>  600 points\n",
    "     Three 5's =>  500 points\n",
    "     Three 4's =>  400 points\n",
    "     Three 3's =>  300 points\n",
    "     Three 2's =>  200 points\n",
    "     One   1   =>  100 points\n",
    "     One   5   =>   50 point\n",
    "A single die can only be counted once in each roll. For example, a given \"5\" can only count as part of a triplet (contributing to the 500 points) or as a single 50 points, but not both in the same roll.\n",
    "\n",
    "Example scoring\n",
    "\n",
    "     Throw       Score\n",
    "     ---------   ------------------\n",
    "     5 1 3 4 1   250:  50 (for the 5) + 2 * 100 (for the 1s)\n",
    "     1 1 1 3 1   1100: 1000 (for three 1s) + 100 (for the other 1)\n",
    "     2 4 4 5 4   450:  400 (for three 4s) + 50 (for the 5)\n",
    " \n",
    "In some languages, it is possible to mutate the input to the function. This is something that you should never do. If you mutate the input, you will not be able to pass all the tests."
   ]
  },
  {
   "cell_type": "code",
   "execution_count": null,
   "metadata": {},
   "outputs": [],
   "source": [
    "# pseudo code\n",
    "\n",
    "def score(dice):\n",
    "    # your code here"
   ]
  }
 ],
 "metadata": {
  "kernelspec": {
   "display_name": "Python 3",
   "language": "python",
   "name": "python3"
  },
  "language_info": {
   "codemirror_mode": {
    "name": "ipython",
    "version": 3
   },
   "file_extension": ".py",
   "mimetype": "text/x-python",
   "name": "python",
   "nbconvert_exporter": "python",
   "pygments_lexer": "ipython3",
   "version": "3.8.3"
  }
 },
 "nbformat": 4,
 "nbformat_minor": 4
}
